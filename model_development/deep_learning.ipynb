{
 "cells": [
  {
   "cell_type": "markdown",
   "metadata": {},
   "source": [
    "## Import Libraries"
   ]
  },
  {
   "cell_type": "code",
   "execution_count": 1,
   "metadata": {},
   "outputs": [],
   "source": [
    "import pandas as pd\n",
    "import numpy as np\n",
    "from scipy import stats\n",
    "import matplotlib.pyplot as plt\n",
    "import seaborn as sns\n",
    "\n",
    "from sklearn.model_selection import train_test_split\n",
    "from sklearn.pipeline import Pipeline, make_pipeline\n",
    "from sklearn.compose import ColumnTransformer\n",
    "from sklearn.preprocessing import MinMaxScaler, StandardScaler, OrdinalEncoder, OneHotEncoder\n",
    "\n",
    "from tensorflow.keras.models import Sequential\n",
    "from tensorflow.keras.layers import Input, Dense\n",
    "import tensorflow as tf\n",
    "from tensorflow import keras\n",
    "from tensorflow.keras.initializers import HeNormal, GlorotNormal, LecunNormal\n",
    "\n",
    "from imblearn.over_sampling import SMOTE\n",
    "from imblearn.under_sampling import RandomUnderSampler\n",
    "import pickle\n",
    "\n",
    "import warnings\n",
    "warnings.filterwarnings('ignore')"
   ]
  },
  {
   "cell_type": "markdown",
   "metadata": {},
   "source": [
    "## Load Data"
   ]
  },
  {
   "cell_type": "code",
   "execution_count": 2,
   "metadata": {},
   "outputs": [
    {
     "data": {
      "text/html": [
       "<div>\n",
       "<style scoped>\n",
       "    .dataframe tbody tr th:only-of-type {\n",
       "        vertical-align: middle;\n",
       "    }\n",
       "\n",
       "    .dataframe tbody tr th {\n",
       "        vertical-align: top;\n",
       "    }\n",
       "\n",
       "    .dataframe thead th {\n",
       "        text-align: right;\n",
       "    }\n",
       "</style>\n",
       "<table border=\"1\" class=\"dataframe\">\n",
       "  <thead>\n",
       "    <tr style=\"text-align: right;\">\n",
       "      <th></th>\n",
       "      <th>gender</th>\n",
       "      <th>senior_citizen</th>\n",
       "      <th>partner</th>\n",
       "      <th>dependents</th>\n",
       "      <th>tenure</th>\n",
       "      <th>phone_service</th>\n",
       "      <th>multiple_lines</th>\n",
       "      <th>internet_service</th>\n",
       "      <th>online_security</th>\n",
       "      <th>online_backup</th>\n",
       "      <th>...</th>\n",
       "      <th>streaming_tv</th>\n",
       "      <th>streaming_movies</th>\n",
       "      <th>contract</th>\n",
       "      <th>paperless_billing</th>\n",
       "      <th>payment_method</th>\n",
       "      <th>monthly_charges</th>\n",
       "      <th>total_charges</th>\n",
       "      <th>churn</th>\n",
       "      <th>monthly_charges_cat</th>\n",
       "      <th>tenure_year</th>\n",
       "    </tr>\n",
       "  </thead>\n",
       "  <tbody>\n",
       "    <tr>\n",
       "      <th>0</th>\n",
       "      <td>Female</td>\n",
       "      <td>No</td>\n",
       "      <td>Yes</td>\n",
       "      <td>No</td>\n",
       "      <td>1</td>\n",
       "      <td>No</td>\n",
       "      <td>No phone service</td>\n",
       "      <td>DSL</td>\n",
       "      <td>No</td>\n",
       "      <td>Yes</td>\n",
       "      <td>...</td>\n",
       "      <td>No</td>\n",
       "      <td>No</td>\n",
       "      <td>Month-to-month</td>\n",
       "      <td>Yes</td>\n",
       "      <td>Electronic check</td>\n",
       "      <td>29.85</td>\n",
       "      <td>29.85</td>\n",
       "      <td>No</td>\n",
       "      <td>Low Expense</td>\n",
       "      <td>1</td>\n",
       "    </tr>\n",
       "    <tr>\n",
       "      <th>1</th>\n",
       "      <td>Male</td>\n",
       "      <td>No</td>\n",
       "      <td>No</td>\n",
       "      <td>No</td>\n",
       "      <td>34</td>\n",
       "      <td>Yes</td>\n",
       "      <td>No</td>\n",
       "      <td>DSL</td>\n",
       "      <td>Yes</td>\n",
       "      <td>No</td>\n",
       "      <td>...</td>\n",
       "      <td>No</td>\n",
       "      <td>No</td>\n",
       "      <td>One year</td>\n",
       "      <td>No</td>\n",
       "      <td>Mailed check</td>\n",
       "      <td>56.95</td>\n",
       "      <td>1889.50</td>\n",
       "      <td>No</td>\n",
       "      <td>Medium Expense</td>\n",
       "      <td>3</td>\n",
       "    </tr>\n",
       "    <tr>\n",
       "      <th>2</th>\n",
       "      <td>Male</td>\n",
       "      <td>No</td>\n",
       "      <td>No</td>\n",
       "      <td>No</td>\n",
       "      <td>2</td>\n",
       "      <td>Yes</td>\n",
       "      <td>No</td>\n",
       "      <td>DSL</td>\n",
       "      <td>Yes</td>\n",
       "      <td>Yes</td>\n",
       "      <td>...</td>\n",
       "      <td>No</td>\n",
       "      <td>No</td>\n",
       "      <td>Month-to-month</td>\n",
       "      <td>Yes</td>\n",
       "      <td>Mailed check</td>\n",
       "      <td>53.85</td>\n",
       "      <td>108.15</td>\n",
       "      <td>Yes</td>\n",
       "      <td>Medium Expense</td>\n",
       "      <td>1</td>\n",
       "    </tr>\n",
       "    <tr>\n",
       "      <th>3</th>\n",
       "      <td>Male</td>\n",
       "      <td>No</td>\n",
       "      <td>No</td>\n",
       "      <td>No</td>\n",
       "      <td>45</td>\n",
       "      <td>No</td>\n",
       "      <td>No phone service</td>\n",
       "      <td>DSL</td>\n",
       "      <td>Yes</td>\n",
       "      <td>No</td>\n",
       "      <td>...</td>\n",
       "      <td>No</td>\n",
       "      <td>No</td>\n",
       "      <td>One year</td>\n",
       "      <td>No</td>\n",
       "      <td>Bank transfer (automatic)</td>\n",
       "      <td>42.30</td>\n",
       "      <td>1840.75</td>\n",
       "      <td>No</td>\n",
       "      <td>Medium Expense</td>\n",
       "      <td>4</td>\n",
       "    </tr>\n",
       "    <tr>\n",
       "      <th>4</th>\n",
       "      <td>Female</td>\n",
       "      <td>No</td>\n",
       "      <td>No</td>\n",
       "      <td>No</td>\n",
       "      <td>2</td>\n",
       "      <td>Yes</td>\n",
       "      <td>No</td>\n",
       "      <td>Fiber optic</td>\n",
       "      <td>No</td>\n",
       "      <td>No</td>\n",
       "      <td>...</td>\n",
       "      <td>No</td>\n",
       "      <td>No</td>\n",
       "      <td>Month-to-month</td>\n",
       "      <td>Yes</td>\n",
       "      <td>Electronic check</td>\n",
       "      <td>70.70</td>\n",
       "      <td>151.65</td>\n",
       "      <td>Yes</td>\n",
       "      <td>Medium High Expense</td>\n",
       "      <td>1</td>\n",
       "    </tr>\n",
       "  </tbody>\n",
       "</table>\n",
       "<p>5 rows × 22 columns</p>\n",
       "</div>"
      ],
      "text/plain": [
       "   gender senior_citizen partner dependents  tenure phone_service  \\\n",
       "0  Female             No     Yes         No       1            No   \n",
       "1    Male             No      No         No      34           Yes   \n",
       "2    Male             No      No         No       2           Yes   \n",
       "3    Male             No      No         No      45            No   \n",
       "4  Female             No      No         No       2           Yes   \n",
       "\n",
       "     multiple_lines internet_service online_security online_backup  ...  \\\n",
       "0  No phone service              DSL              No           Yes  ...   \n",
       "1                No              DSL             Yes            No  ...   \n",
       "2                No              DSL             Yes           Yes  ...   \n",
       "3  No phone service              DSL             Yes            No  ...   \n",
       "4                No      Fiber optic              No            No  ...   \n",
       "\n",
       "  streaming_tv streaming_movies        contract paperless_billing  \\\n",
       "0           No               No  Month-to-month               Yes   \n",
       "1           No               No        One year                No   \n",
       "2           No               No  Month-to-month               Yes   \n",
       "3           No               No        One year                No   \n",
       "4           No               No  Month-to-month               Yes   \n",
       "\n",
       "              payment_method monthly_charges total_charges  churn  \\\n",
       "0           Electronic check           29.85         29.85     No   \n",
       "1               Mailed check           56.95       1889.50     No   \n",
       "2               Mailed check           53.85        108.15    Yes   \n",
       "3  Bank transfer (automatic)           42.30       1840.75     No   \n",
       "4           Electronic check           70.70        151.65    Yes   \n",
       "\n",
       "   monthly_charges_cat tenure_year  \n",
       "0          Low Expense           1  \n",
       "1       Medium Expense           3  \n",
       "2       Medium Expense           1  \n",
       "3       Medium Expense           4  \n",
       "4  Medium High Expense           1  \n",
       "\n",
       "[5 rows x 22 columns]"
      ]
     },
     "execution_count": 2,
     "metadata": {},
     "output_type": "execute_result"
    }
   ],
   "source": [
    "df = pd.read_csv('telco_data_clean.csv', index_col=False)\n",
    "df.head()"
   ]
  },
  {
   "cell_type": "markdown",
   "metadata": {},
   "source": [
    "## Feature Engineering"
   ]
  },
  {
   "cell_type": "code",
   "execution_count": 3,
   "metadata": {},
   "outputs": [],
   "source": [
    "df[\"churn\"]= df[\"churn\"].map({\"No\": 0, \"Yes\": 1})"
   ]
  },
  {
   "cell_type": "markdown",
   "metadata": {},
   "source": [
    "### Feature Selection"
   ]
  },
  {
   "cell_type": "code",
   "execution_count": 4,
   "metadata": {},
   "outputs": [],
   "source": [
    "# numCol = ['monthly_charges', 'tenure_year']\n",
    "# catCol = ['senior_citizen', 'partner', 'dependents', 'internet_service', 'online_security',\n",
    "#        'online_backup', 'device_protection', 'tech_support', 'streaming_tv', 'streaming_movies', \n",
    "#        'contract', 'paperless_billing', 'payment_method']\n",
    "numCol = ['tenure_year', 'monthly_charges', 'total_charges']\n",
    "catCol = ['senior_citizen', 'partner', 'dependents', 'online_security', 'online_backup', 'device_protection', 'tech_support', 'contract', 'paperless_billing']\n",
    "# catCol = ['senior_citizen', 'online_backup', 'device_protection', 'tech_support', 'contract']\n",
    "targetCol = ['churn']"
   ]
  },
  {
   "cell_type": "code",
   "execution_count": 5,
   "metadata": {},
   "outputs": [],
   "source": [
    "df = df[numCol + catCol + targetCol]"
   ]
  },
  {
   "cell_type": "markdown",
   "metadata": {},
   "source": [
    "### Split X, y"
   ]
  },
  {
   "cell_type": "code",
   "execution_count": 6,
   "metadata": {},
   "outputs": [],
   "source": [
    "X = df.drop('churn', axis=1)\n",
    "y = df['churn']"
   ]
  },
  {
   "cell_type": "markdown",
   "metadata": {},
   "source": [
    "### Split Train, Validation, Test"
   ]
  },
  {
   "cell_type": "code",
   "execution_count": 7,
   "metadata": {},
   "outputs": [
    {
     "name": "stdout",
     "output_type": "stream",
     "text": [
      "Train Size :  (5080, 12)\n",
      "Val Size :  (897, 12)\n",
      "Test Size :  (1055, 12)\n"
     ]
    }
   ],
   "source": [
    "# Split Between Train-Set, Val-Set, and Test-Set\n",
    "X_train_val, X_test, y_train_val, y_test = train_test_split(X,y, test_size = 0.15, random_state=42)\n",
    "X_train, X_val, y_train, y_val = train_test_split(X_train_val, y_train_val, test_size = 0.15, random_state=42)\n",
    "\n",
    "print(\"Train Size : \", X_train.shape)\n",
    "print(\"Val Size : \", X_val.shape)\n",
    "print(\"Test Size : \", X_test.shape)"
   ]
  },
  {
   "cell_type": "markdown",
   "metadata": {},
   "source": [
    "### Pipeline Scaling & Encoding"
   ]
  },
  {
   "cell_type": "code",
   "execution_count": 8,
   "metadata": {},
   "outputs": [],
   "source": [
    "num_pipeline = make_pipeline(StandardScaler())\n",
    "\n",
    "cat_pipeline = make_pipeline(OneHotEncoder())\n",
    "\n",
    "final_pipeline = ColumnTransformer([\n",
    "    ('pipe_num', num_pipeline, numCol),\n",
    "    ('pipe_cat', cat_pipeline, catCol)\n",
    "])"
   ]
  },
  {
   "cell_type": "code",
   "execution_count": 9,
   "metadata": {},
   "outputs": [],
   "source": [
    "# Fit and Transform\n",
    "X_train_pipe = final_pipeline.fit_transform(X_train)\n",
    "X_val_pipe = final_pipeline.transform(X_val)\n",
    "X_test_pipe = final_pipeline.transform(X_test)"
   ]
  },
  {
   "cell_type": "code",
   "execution_count": 10,
   "metadata": {},
   "outputs": [],
   "source": [
    "# Oversampling\n",
    "# smote = SMOTE(sampling_strategy='minority', k_neighbors=5, random_state=42)     # Minority Class will have same the same number as the majority class\n",
    "# X_train_pipe, y_train = smote.fit_resample(X_train_pipe, y_train)\n",
    "# y_train.value_counts()\n",
    "\n",
    "\n",
    "# Undersampling\n",
    "# undersampling = RandomUnderSampler(sampling_strategy='auto', random_state=42)\n",
    "# X_train_pipe, y_train = undersampling.fit_resample(X_train_pipe, y_train)\n",
    "# y_train.value_counts()"
   ]
  },
  {
   "cell_type": "markdown",
   "metadata": {},
   "source": [
    "### Data Slices"
   ]
  },
  {
   "cell_type": "code",
   "execution_count": 11,
   "metadata": {},
   "outputs": [],
   "source": [
    "train_pipe = tf.data.Dataset.from_tensor_slices((X_train_pipe,y_train)).batch(128).repeat(2).shuffle(len(y_train)).prefetch(tf.data.AUTOTUNE)\n",
    "test_pipe = tf.data.Dataset.from_tensor_slices((X_test_pipe,y_test)).batch(128)\n",
    "val_pipe = tf.data.Dataset.from_tensor_slices((X_val_pipe,y_val)).batch(128)"
   ]
  },
  {
   "cell_type": "markdown",
   "metadata": {},
   "source": [
    "### Count Data Shape"
   ]
  },
  {
   "cell_type": "code",
   "execution_count": 12,
   "metadata": {},
   "outputs": [
    {
     "data": {
      "text/plain": [
       "(5080, 26)"
      ]
     },
     "execution_count": 12,
     "metadata": {},
     "output_type": "execute_result"
    }
   ],
   "source": [
    "X_train_pipe.shape"
   ]
  },
  {
   "cell_type": "markdown",
   "metadata": {},
   "source": [
    "## Model Definition (Deep Learning)"
   ]
  },
  {
   "cell_type": "code",
   "execution_count": 13,
   "metadata": {},
   "outputs": [],
   "source": [
    "# Clear Session\n",
    "seed = 20\n",
    "tf.keras.backend.clear_session()\n",
    "np.random.seed(seed)\n",
    "tf.random.set_seed(seed)"
   ]
  },
  {
   "cell_type": "code",
   "execution_count": 14,
   "metadata": {},
   "outputs": [],
   "source": [
    "# Best Param\n",
    "# Optimizer = SGD(learning_rate=0.01)\n",
    "# Activation Function = Relu\n",
    "# Hidden Layer = 3\n",
    "# Neuron = 16, 8, 8"
   ]
  },
  {
   "cell_type": "code",
   "execution_count": 15,
   "metadata": {},
   "outputs": [
    {
     "name": "stdout",
     "output_type": "stream",
     "text": [
      "Model: \"sequential\"\n",
      "_________________________________________________________________\n",
      " Layer (type)                Output Shape              Param #   \n",
      "=================================================================\n",
      " hidden-layer-1 (Dense)      (None, 16)                432       \n",
      "                                                                 \n",
      " batch_normalization (Batch  (None, 16)                64        \n",
      " Normalization)                                                  \n",
      "                                                                 \n",
      " hidden-layer-2 (Dense)      (None, 8)                 136       \n",
      "                                                                 \n",
      " batch_normalization_1 (Bat  (None, 8)                 32        \n",
      " chNormalization)                                                \n",
      "                                                                 \n",
      " hidden-layer-3 (Dense)      (None, 8)                 72        \n",
      "                                                                 \n",
      " batch_normalization_2 (Bat  (None, 8)                 32        \n",
      " chNormalization)                                                \n",
      "                                                                 \n",
      " output-layer (Dense)        (None, 1)                 9         \n",
      "                                                                 \n",
      "=================================================================\n",
      "Total params: 777 (3.04 KB)\n",
      "Trainable params: 713 (2.79 KB)\n",
      "Non-trainable params: 64 (256.00 Byte)\n",
      "_________________________________________________________________\n"
     ]
    }
   ],
   "source": [
    "# initializer = HeNormal(seed=seed)\n",
    "initializer = GlorotNormal(seed=seed)\n",
    "# initializer = LecunNormal(seed=seed)\n",
    "loss_function = tf.keras.losses.BinaryCrossentropy()\n",
    "# optimizer = tf.keras.optimizers.Adam(learning_rate=0.1)\n",
    "# optimizer = tf.keras.optimizers.Nadam(learning_rate=0.1)\n",
    "optimizer = tf.keras.optimizers.SGD(learning_rate=0.01) #nesterov=True)\n",
    "\n",
    "model_relu = Sequential([\n",
    "    Input(shape=(26,), name='input-layer'),\n",
    "    Dense(16, activation='relu', kernel_initializer=initializer, name='hidden-layer-1'),\n",
    "    keras.layers.BatchNormalization(),\n",
    "    Dense(8, activation='relu', kernel_initializer=initializer, name='hidden-layer-2'),\n",
    "    keras.layers.BatchNormalization(),\n",
    "    Dense(8, activation='relu', kernel_initializer=initializer, name='hidden-layer-3'),\n",
    "    keras.layers.BatchNormalization(),\n",
    "    # Dense(4, activation='relu', kernel_initializer=initializer, name='hidden-layer-4'),\n",
    "    # keras.layers.BatchNormalization(),\n",
    "    Dense(1, activation=\"sigmoid\", kernel_initializer=initializer, name='output-layer')\n",
    "])\n",
    "\n",
    "# Compile\n",
    "model_relu.compile(loss=loss_function,\n",
    "              optimizer=optimizer,\n",
    "              metrics=['Precision', 'accuracy'])\n",
    "model_relu.summary()"
   ]
  },
  {
   "cell_type": "code",
   "execution_count": 16,
   "metadata": {},
   "outputs": [],
   "source": [
    "# model_sequential_1 = Sequential()\n",
    "# model_sequential_1.add(Dense(256, activation='relu', input_shape=(26,)))\n",
    "# model_sequential_1.add(Dense(128, activation='relu'))\n",
    "# model_sequential_1.add(Dense(64, activation='relu'))\n",
    "# model_sequential_1.add(Dense(32, activation='relu'))\n",
    "# model_sequential_1.add(Dense(1, activation='sigmoid'))\n",
    "\n",
    "\n",
    "# # Compile\n",
    "# model_sequential_1.compile(loss='binary_crossentropy',\n",
    "#                          optimizer='adam',\n",
    "#                          metrics=['Precision', 'accuracy'])\n",
    "\n",
    "# model_sequential_1.summary()"
   ]
  },
  {
   "cell_type": "markdown",
   "metadata": {},
   "source": [
    "## Model Training"
   ]
  },
  {
   "cell_type": "code",
   "execution_count": 17,
   "metadata": {},
   "outputs": [
    {
     "name": "stdout",
     "output_type": "stream",
     "text": [
      "Epoch 1/60\n"
     ]
    },
    {
     "name": "stdout",
     "output_type": "stream",
     "text": [
      "80/80 [==============================] - 1s 4ms/step - loss: 0.6093 - precision: 0.4925 - accuracy: 0.7285 - val_loss: 0.5582 - val_precision: 0.5935 - val_accuracy: 0.7926\n",
      "Epoch 2/60\n",
      "80/80 [==============================] - 0s 2ms/step - loss: 0.5231 - precision: 0.5625 - accuracy: 0.7702 - val_loss: 0.4921 - val_precision: 0.6061 - val_accuracy: 0.7882\n",
      "Epoch 3/60\n",
      "80/80 [==============================] - 0s 2ms/step - loss: 0.4919 - precision: 0.5912 - accuracy: 0.7819 - val_loss: 0.4609 - val_precision: 0.6220 - val_accuracy: 0.7982\n",
      "Epoch 4/60\n",
      "80/80 [==============================] - 0s 2ms/step - loss: 0.4750 - precision: 0.6089 - accuracy: 0.7869 - val_loss: 0.4460 - val_precision: 0.6308 - val_accuracy: 0.8038\n",
      "Epoch 5/60\n",
      "80/80 [==============================] - 0s 2ms/step - loss: 0.4645 - precision: 0.6204 - accuracy: 0.7895 - val_loss: 0.4384 - val_precision: 0.6333 - val_accuracy: 0.8038\n",
      "Epoch 6/60\n",
      "80/80 [==============================] - 0s 2ms/step - loss: 0.4577 - precision: 0.6349 - accuracy: 0.7944 - val_loss: 0.4335 - val_precision: 0.6286 - val_accuracy: 0.8016\n",
      "Epoch 7/60\n",
      "80/80 [==============================] - 0s 3ms/step - loss: 0.4529 - precision: 0.6421 - accuracy: 0.7959 - val_loss: 0.4289 - val_precision: 0.6436 - val_accuracy: 0.8060\n",
      "Epoch 8/60\n",
      "80/80 [==============================] - 0s 3ms/step - loss: 0.4494 - precision: 0.6509 - accuracy: 0.7983 - val_loss: 0.4263 - val_precision: 0.6531 - val_accuracy: 0.8082\n",
      "Epoch 9/60\n",
      "80/80 [==============================] - 0s 3ms/step - loss: 0.4469 - precision: 0.6507 - accuracy: 0.7969 - val_loss: 0.4246 - val_precision: 0.6598 - val_accuracy: 0.8105\n",
      "Epoch 10/60\n",
      "80/80 [==============================] - 0s 2ms/step - loss: 0.4448 - precision: 0.6548 - accuracy: 0.7987 - val_loss: 0.4221 - val_precision: 0.6447 - val_accuracy: 0.8049\n",
      "Epoch 11/60\n",
      "80/80 [==============================] - 0s 2ms/step - loss: 0.4432 - precision: 0.6577 - accuracy: 0.7994 - val_loss: 0.4206 - val_precision: 0.6447 - val_accuracy: 0.8049\n",
      "Epoch 12/60\n",
      "80/80 [==============================] - 0s 2ms/step - loss: 0.4417 - precision: 0.6607 - accuracy: 0.8009 - val_loss: 0.4195 - val_precision: 0.6546 - val_accuracy: 0.8082\n",
      "Epoch 13/60\n",
      "80/80 [==============================] - 0s 2ms/step - loss: 0.4402 - precision: 0.6601 - accuracy: 0.8004 - val_loss: 0.4184 - val_precision: 0.6513 - val_accuracy: 0.8071\n",
      "Epoch 14/60\n",
      "80/80 [==============================] - 0s 2ms/step - loss: 0.4386 - precision: 0.6649 - accuracy: 0.8025 - val_loss: 0.4177 - val_precision: 0.6545 - val_accuracy: 0.8071\n",
      "Epoch 15/60\n",
      "80/80 [==============================] - 0s 3ms/step - loss: 0.4373 - precision: 0.6664 - accuracy: 0.8035 - val_loss: 0.4167 - val_precision: 0.6562 - val_accuracy: 0.8082\n",
      "Epoch 16/60\n",
      "80/80 [==============================] - 0s 2ms/step - loss: 0.4360 - precision: 0.6673 - accuracy: 0.8033 - val_loss: 0.4159 - val_precision: 0.6513 - val_accuracy: 0.8071\n",
      "Epoch 17/60\n",
      "80/80 [==============================] - 0s 4ms/step - loss: 0.4348 - precision: 0.6670 - accuracy: 0.8038 - val_loss: 0.4151 - val_precision: 0.6515 - val_accuracy: 0.8082\n",
      "Epoch 18/60\n",
      "80/80 [==============================] - 0s 2ms/step - loss: 0.4336 - precision: 0.6670 - accuracy: 0.8043 - val_loss: 0.4148 - val_precision: 0.6495 - val_accuracy: 0.8060\n",
      "Epoch 19/60\n",
      "80/80 [==============================] - 0s 2ms/step - loss: 0.4325 - precision: 0.6670 - accuracy: 0.8032 - val_loss: 0.4133 - val_precision: 0.6528 - val_accuracy: 0.8071\n",
      "Epoch 20/60\n",
      "80/80 [==============================] - 0s 3ms/step - loss: 0.4313 - precision: 0.6679 - accuracy: 0.8041 - val_loss: 0.4129 - val_precision: 0.6425 - val_accuracy: 0.8027\n",
      "Epoch 21/60\n",
      "80/80 [==============================] - 0s 2ms/step - loss: 0.4303 - precision: 0.6687 - accuracy: 0.8042 - val_loss: 0.4120 - val_precision: 0.6396 - val_accuracy: 0.8027\n",
      "Epoch 22/60\n",
      "80/80 [==============================] - 0s 2ms/step - loss: 0.4292 - precision: 0.6692 - accuracy: 0.8043 - val_loss: 0.4117 - val_precision: 0.6425 - val_accuracy: 0.8027\n",
      "Epoch 23/60\n",
      "80/80 [==============================] - 0s 2ms/step - loss: 0.4280 - precision: 0.6723 - accuracy: 0.8055 - val_loss: 0.4111 - val_precision: 0.6513 - val_accuracy: 0.8071\n",
      "Epoch 24/60\n",
      "80/80 [==============================] - 0s 3ms/step - loss: 0.4271 - precision: 0.6728 - accuracy: 0.8057 - val_loss: 0.4113 - val_precision: 0.6561 - val_accuracy: 0.8071\n",
      "Epoch 25/60\n",
      "80/80 [==============================] - 0s 3ms/step - loss: 0.4259 - precision: 0.6697 - accuracy: 0.8037 - val_loss: 0.4111 - val_precision: 0.6462 - val_accuracy: 0.8049\n",
      "Epoch 26/60\n",
      "80/80 [==============================] - 0s 2ms/step - loss: 0.4250 - precision: 0.6757 - accuracy: 0.8063 - val_loss: 0.4099 - val_precision: 0.6510 - val_accuracy: 0.8060\n",
      "Epoch 27/60\n",
      "80/80 [==============================] - 0s 3ms/step - loss: 0.4241 - precision: 0.6746 - accuracy: 0.8059 - val_loss: 0.4097 - val_precision: 0.6477 - val_accuracy: 0.8049\n",
      "Epoch 28/60\n",
      "80/80 [==============================] - 0s 2ms/step - loss: 0.4231 - precision: 0.6764 - accuracy: 0.8062 - val_loss: 0.4099 - val_precision: 0.6510 - val_accuracy: 0.8060\n",
      "Epoch 29/60\n",
      "80/80 [==============================] - 0s 3ms/step - loss: 0.4222 - precision: 0.6756 - accuracy: 0.8059 - val_loss: 0.4093 - val_precision: 0.6425 - val_accuracy: 0.8027\n",
      "Epoch 30/60\n",
      "80/80 [==============================] - 0s 2ms/step - loss: 0.4214 - precision: 0.6756 - accuracy: 0.8059 - val_loss: 0.4095 - val_precision: 0.6440 - val_accuracy: 0.8027\n",
      "Epoch 31/60\n",
      "80/80 [==============================] - 0s 2ms/step - loss: 0.4204 - precision: 0.6782 - accuracy: 0.8068 - val_loss: 0.4086 - val_precision: 0.6386 - val_accuracy: 0.8038\n",
      "Epoch 32/60\n",
      "80/80 [==============================] - 0s 3ms/step - loss: 0.4200 - precision: 0.6765 - accuracy: 0.8069 - val_loss: 0.4087 - val_precision: 0.6543 - val_accuracy: 0.8060\n",
      "Epoch 33/60\n",
      "80/80 [==============================] - 0s 3ms/step - loss: 0.4192 - precision: 0.6822 - accuracy: 0.8082 - val_loss: 0.4090 - val_precision: 0.6510 - val_accuracy: 0.8060\n",
      "Epoch 34/60\n",
      "80/80 [==============================] - 0s 3ms/step - loss: 0.4185 - precision: 0.6812 - accuracy: 0.8080 - val_loss: 0.4082 - val_precision: 0.6528 - val_accuracy: 0.8071\n",
      "Epoch 35/60\n",
      "80/80 [==============================] - 0s 3ms/step - loss: 0.4178 - precision: 0.6798 - accuracy: 0.8076 - val_loss: 0.4085 - val_precision: 0.6543 - val_accuracy: 0.8060\n",
      "Epoch 36/60\n",
      "80/80 [==============================] - 0s 3ms/step - loss: 0.4171 - precision: 0.6833 - accuracy: 0.8083 - val_loss: 0.4083 - val_precision: 0.6489 - val_accuracy: 0.8038\n",
      "Epoch 37/60\n",
      "80/80 [==============================] - 0s 2ms/step - loss: 0.4168 - precision: 0.6806 - accuracy: 0.8077 - val_loss: 0.4074 - val_precision: 0.6545 - val_accuracy: 0.8071\n",
      "Epoch 38/60\n",
      "80/80 [==============================] - 0s 2ms/step - loss: 0.4160 - precision: 0.6813 - accuracy: 0.8087 - val_loss: 0.4073 - val_precision: 0.6531 - val_accuracy: 0.8082\n",
      "Epoch 39/60\n",
      "80/80 [==============================] - 0s 2ms/step - loss: 0.4155 - precision: 0.6857 - accuracy: 0.8094 - val_loss: 0.4070 - val_precision: 0.6545 - val_accuracy: 0.8071\n",
      "Epoch 40/60\n",
      "80/80 [==============================] - 0s 2ms/step - loss: 0.4148 - precision: 0.6793 - accuracy: 0.8080 - val_loss: 0.4061 - val_precision: 0.6528 - val_accuracy: 0.8071\n",
      "Epoch 41/60\n",
      "80/80 [==============================] - 0s 3ms/step - loss: 0.4145 - precision: 0.6888 - accuracy: 0.8097 - val_loss: 0.4060 - val_precision: 0.6546 - val_accuracy: 0.8082\n",
      "Epoch 42/60\n",
      "80/80 [==============================] - 0s 3ms/step - loss: 0.4140 - precision: 0.6864 - accuracy: 0.8100 - val_loss: 0.4056 - val_precision: 0.6546 - val_accuracy: 0.8082\n",
      "Epoch 43/60\n",
      "80/80 [==============================] - 0s 2ms/step - loss: 0.4136 - precision: 0.6873 - accuracy: 0.8103 - val_loss: 0.4068 - val_precision: 0.6598 - val_accuracy: 0.8105\n",
      "Epoch 44/60\n",
      "80/80 [==============================] - 0s 2ms/step - loss: 0.4130 - precision: 0.6887 - accuracy: 0.8106 - val_loss: 0.4052 - val_precision: 0.6564 - val_accuracy: 0.8094\n",
      "Epoch 45/60\n",
      "80/80 [==============================] - 0s 2ms/step - loss: 0.4126 - precision: 0.6901 - accuracy: 0.8115 - val_loss: 0.4058 - val_precision: 0.6701 - val_accuracy: 0.8149\n",
      "Epoch 46/60\n",
      "80/80 [==============================] - 0s 2ms/step - loss: 0.4123 - precision: 0.6895 - accuracy: 0.8109 - val_loss: 0.4057 - val_precision: 0.6755 - val_accuracy: 0.8149\n",
      "Epoch 47/60\n",
      "80/80 [==============================] - 0s 3ms/step - loss: 0.4116 - precision: 0.6916 - accuracy: 0.8109 - val_loss: 0.4057 - val_precision: 0.6564 - val_accuracy: 0.8094\n",
      "Epoch 48/60\n",
      "80/80 [==============================] - 0s 2ms/step - loss: 0.4116 - precision: 0.6916 - accuracy: 0.8117 - val_loss: 0.4045 - val_precision: 0.6599 - val_accuracy: 0.8116\n",
      "Epoch 49/60\n",
      "80/80 [==============================] - 0s 2ms/step - loss: 0.4112 - precision: 0.6897 - accuracy: 0.8120 - val_loss: 0.4047 - val_precision: 0.6615 - val_accuracy: 0.8116\n",
      "Epoch 50/60\n",
      "80/80 [==============================] - 0s 2ms/step - loss: 0.4108 - precision: 0.6898 - accuracy: 0.8113 - val_loss: 0.4049 - val_precision: 0.6649 - val_accuracy: 0.8116\n",
      "Epoch 51/60\n",
      "80/80 [==============================] - 0s 2ms/step - loss: 0.4104 - precision: 0.6884 - accuracy: 0.8109 - val_loss: 0.4050 - val_precision: 0.6720 - val_accuracy: 0.8138\n",
      "Epoch 52/60\n",
      "80/80 [==============================] - 0s 3ms/step - loss: 0.4100 - precision: 0.6913 - accuracy: 0.8120 - val_loss: 0.4043 - val_precision: 0.6667 - val_accuracy: 0.8105\n",
      "Epoch 53/60\n",
      "80/80 [==============================] - 0s 2ms/step - loss: 0.4096 - precision: 0.6942 - accuracy: 0.8123 - val_loss: 0.4042 - val_precision: 0.6615 - val_accuracy: 0.8116\n",
      "Epoch 54/60\n",
      "80/80 [==============================] - 0s 2ms/step - loss: 0.4093 - precision: 0.6947 - accuracy: 0.8129 - val_loss: 0.4037 - val_precision: 0.6736 - val_accuracy: 0.8161\n",
      "Epoch 55/60\n",
      "80/80 [==============================] - 0s 2ms/step - loss: 0.4088 - precision: 0.6960 - accuracy: 0.8135 - val_loss: 0.4044 - val_precision: 0.6633 - val_accuracy: 0.8127\n",
      "Epoch 56/60\n",
      "80/80 [==============================] - 0s 3ms/step - loss: 0.4082 - precision: 0.6918 - accuracy: 0.8128 - val_loss: 0.4054 - val_precision: 0.6705 - val_accuracy: 0.8082\n",
      "Epoch 57/60\n",
      "80/80 [==============================] - 0s 3ms/step - loss: 0.4078 - precision: 0.6925 - accuracy: 0.8123 - val_loss: 0.4042 - val_precision: 0.6578 - val_accuracy: 0.8071\n",
      "Epoch 58/60\n",
      "80/80 [==============================] - 0s 2ms/step - loss: 0.4080 - precision: 0.6954 - accuracy: 0.8130 - val_loss: 0.4043 - val_precision: 0.6552 - val_accuracy: 0.8116\n",
      "Epoch 59/60\n",
      "80/80 [==============================] - 0s 2ms/step - loss: 0.4074 - precision: 0.6925 - accuracy: 0.8125 - val_loss: 0.4046 - val_precision: 0.6576 - val_accuracy: 0.8060\n",
      "Epoch 60/60\n",
      "80/80 [==============================] - 0s 2ms/step - loss: 0.4070 - precision: 0.6950 - accuracy: 0.8128 - val_loss: 0.4055 - val_precision: 0.6667 - val_accuracy: 0.8060\n",
      "CPU times: total: 18 s\n",
      "Wall time: 13.9 s\n"
     ]
    }
   ],
   "source": [
    "%%time\n",
    "# Train the Model\n",
    "model_relu_result = model_relu.fit(train_pipe, epochs=60, validation_data=val_pipe)"
   ]
  },
  {
   "cell_type": "markdown",
   "metadata": {},
   "source": [
    "## Model Evaluation"
   ]
  },
  {
   "cell_type": "code",
   "execution_count": 18,
   "metadata": {},
   "outputs": [],
   "source": [
    "model_relu_df = pd.DataFrame(model_relu_result.history)"
   ]
  },
  {
   "cell_type": "code",
   "execution_count": 19,
   "metadata": {},
   "outputs": [
    {
     "data": {
      "text/plain": [
       "<Axes: >"
      ]
     },
     "execution_count": 19,
     "metadata": {},
     "output_type": "execute_result"
    },
    {
     "data": {
      "image/png": "[encoded data removed]",
      "text/plain": [
       "<Figure size 640x480 with 1 Axes>"
      ]
     },
     "metadata": {},
     "output_type": "display_data"
    },
    {
     "data": {
      "image/png": "[encoded data removed]",
      "text/plain": [
       "<Figure size 640x480 with 1 Axes>"
      ]
     },
     "metadata": {},
     "output_type": "display_data"
    }
   ],
   "source": [
    "model_relu_df[['loss', 'val_loss']].plot()\n",
    "model_relu_df[['precision', 'val_precision']].plot()"
   ]
  }
 ],
 "metadata": {
  "kernelspec": {
   "display_name": "base",
   "language": "python",
   "name": "python3"
  },
  "language_info": {
   "codemirror_mode": {
    "name": "ipython",
    "version": 3
   },
   "file_extension": ".py",
   "mimetype": "text/x-python",
   "name": "python",
   "nbconvert_exporter": "python",
   "pygments_lexer": "ipython3",
   "version": "3.11.4"
  }
 },
 "nbformat": 4,
 "nbformat_minor": 2
}
